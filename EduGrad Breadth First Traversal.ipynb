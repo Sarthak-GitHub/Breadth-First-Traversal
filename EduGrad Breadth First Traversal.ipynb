{
 "cells": [
  {
   "cell_type": "code",
   "execution_count": 1,
   "metadata": {},
   "outputs": [],
   "source": [
    "class myQueue:\n",
    "    \n",
    "    def __init__(self):\n",
    "        \"\"\"\n",
    "        Create a new queue.   \n",
    "        \"\"\"\n",
    "        self.items = []\n",
    "\n",
    "    def isEmpty(self):\n",
    "        \"\"\"\n",
    "        Returns true if queue is empty .  \n",
    "        \"\"\"\n",
    "        return self.items == []\n",
    "\n",
    "    def enqueue(self, item):\n",
    "        \"\"\"\n",
    "        Add a new element to the end of queue.\n",
    "        \"\"\"\n",
    "        self.items.insert(0,item)\n",
    "\n",
    "    def dequeue(self):\n",
    "        \"\"\"\n",
    "        Remove a element from the beginning of queue.\n",
    "        \"\"\"\n",
    "        return self.items.pop()\n",
    "\n",
    "    def size(self):\n",
    "        \"\"\"\n",
    "        Returns the size of the queue.   \n",
    "        \"\"\"\n",
    "        return len(self.items)\n",
    "    \n",
    "    def peek(self):\n",
    "        \"\"\"\n",
    "       Have a look at first element of the queue.   \n",
    "        \"\"\"\n",
    "        if self.isEmpty():\n",
    "            raise Exception(\"Nothing to peek\")\n",
    "       \n",
    "        return self.items[len(self.items)-1]\n",
    "    "
   ]
  },
  {
   "cell_type": "code",
   "execution_count": 2,
   "metadata": {},
   "outputs": [],
   "source": [
    "class Node:\n",
    "\n",
    "    def __init__(self, data):\n",
    "        self.left = None\n",
    "        self.right = None\n",
    "        self.data = data\n",
    "        \n",
    "    def getLeftChild(self):\n",
    "        return self.left\n",
    "    \n",
    "    def setLeftChild(self,left):\n",
    "        self.left = left\n",
    "    \n",
    "    def getRightChild(self):\n",
    "        return self.right\n",
    "    \n",
    "    def setRightChild(self,right):\n",
    "        self.right = right\n",
    "    \n",
    "    def setNodeValue(self,value):\n",
    "        self.data = value\n",
    "        \n",
    "    def getNodeValue(self):\n",
    "        return self.data"
   ]
  },
  {
   "cell_type": "code",
   "execution_count": 3,
   "metadata": {},
   "outputs": [],
   "source": [
    "def breadthFirst(node):\n",
    "        \n",
    "    if(node.data == None):\n",
    "        raise Exception(\"No root found!\") \n",
    "    path = \"\"    \n",
    "    queue = myQueue()\n",
    "    queue.enqueue(node)   \n",
    "    \n",
    "    while queue.size() > 0:        \n",
    "        current = queue.dequeue()       \n",
    "        path += str(current.data) + \" \"               \n",
    "        if current.getLeftChild()!= None:\n",
    "            queue.enqueue(current.getLeftChild())            \n",
    "        if current.getRightChild()!= None:\n",
    "            queue.enqueue(current.getRightChild())\n",
    "            \n",
    "    return path"
   ]
  },
  {
   "cell_type": "code",
   "execution_count": 4,
   "metadata": {},
   "outputs": [],
   "source": [
    "a = Node(\"A\")\n",
    "b = Node('B')\n",
    "c = Node('C')\n",
    "d = Node('D')\n",
    "e = Node('E')\n",
    "f = Node('F')\n",
    "g = Node('G')\n",
    "h = Node('H')\n",
    "x = Node('X')"
   ]
  },
  {
   "cell_type": "code",
   "execution_count": 5,
   "metadata": {},
   "outputs": [],
   "source": [
    "a.setLeftChild(b)\n",
    "a.setRightChild(c)\n",
    "c.setLeftChild(d)\n",
    "c.setRightChild(e)\n",
    "d.setLeftChild(f)\n",
    "d.setRightChild(h)\n",
    "e.setRightChild(g)\n",
    "b.setLeftChild(x)"
   ]
  },
  {
   "cell_type": "code",
   "execution_count": 6,
   "metadata": {},
   "outputs": [
    {
     "data": {
      "text/plain": [
       "'A B C X D E F H G '"
      ]
     },
     "execution_count": 6,
     "metadata": {},
     "output_type": "execute_result"
    }
   ],
   "source": [
    "breadthFirst(a)"
   ]
  },
  {
   "cell_type": "code",
   "execution_count": null,
   "metadata": {},
   "outputs": [],
   "source": []
  }
 ],
 "metadata": {
  "kernelspec": {
   "display_name": "Python 3",
   "language": "python",
   "name": "python3"
  },
  "language_info": {
   "codemirror_mode": {
    "name": "ipython",
    "version": 3
   },
   "file_extension": ".py",
   "mimetype": "text/x-python",
   "name": "python",
   "nbconvert_exporter": "python",
   "pygments_lexer": "ipython3",
   "version": "3.7.3"
  }
 },
 "nbformat": 4,
 "nbformat_minor": 2
}
